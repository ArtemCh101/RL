{
  "nbformat": 4,
  "nbformat_minor": 0,
  "metadata": {
    "colab": {
      "provenance": []
    },
    "kernelspec": {
      "name": "python3",
      "display_name": "Python 3"
    },
    "language_info": {
      "name": "python"
    }
  },
  "cells": [
    {
      "cell_type": "markdown",
      "source": [
        "# RL basics\n",
        "\n",
        "Термины и понятия:\n",
        "\n",
        "- агент/среда\n",
        "- наблюдение $o$ / состояние $s$\n",
        "- действие $a$, стратегия $\\pi: \\pi(s) \\rightarrow a$ функция перехода $T: T(s, a) \\rightarrow s'$\n",
        "- вознаграждение $r$, ф-я вознаграждений $R: R(s, a) \\rightarrow r$\n",
        "- цикл взаимодействия, траектория $\\tau: (s_0, a_0, r_0, s_1, a_1, r_1, ..., s_T, a_T, r_T)$, эпизод\n",
        "- отдача $G$, подсчет отдачи, средняя[/ожидаемая] отдача $\\mathbb{E}[G]$"
      ],
      "metadata": {
        "id": "k4NMHBq16Y_g"
      }
    },
    {
      "cell_type": "code",
      "source": [
        "try:\n",
        "    import google.colab\n",
        "    COLAB = True\n",
        "except ModuleNotFoundError:\n",
        "    COLAB = False\n",
        "    pass\n",
        "\n",
        "if COLAB:\n",
        "    !pip -q install \"gymnasium[classic-control, atari, accept-rom-license]\"\n",
        "    !pip -q install piglet\n",
        "    !pip -q install imageio_ffmpeg\n",
        "    !pip -q install moviepy==1.0.3"
      ],
      "metadata": {
        "id": "MoNP7Wdn6aP0",
        "colab": {
          "base_uri": "https://localhost:8080/"
        },
        "outputId": "b304de21-1a49-4021-d445-419ec9352032"
      },
      "execution_count": 57,
      "outputs": [
        {
          "output_type": "stream",
          "name": "stdout",
          "text": [
            "\u001b[33mWARNING: gymnasium 1.2.0 does not provide the extra 'accept-rom-license'\u001b[0m\u001b[33m\n",
            "\u001b[0m"
          ]
        }
      ]
    },
    {
      "cell_type": "code",
      "source": [
        "import glob\n",
        "import io\n",
        "import base64\n",
        "import gymnasium as gym\n",
        "import numpy as np\n",
        "from IPython import display as ipythondisplay\n",
        "from IPython.display import HTML\n",
        "import matplotlib.pyplot as plt\n",
        "%matplotlib inline"
      ],
      "metadata": {
        "id": "9JPaLF5v6esZ"
      },
      "execution_count": 58,
      "outputs": []
    },
    {
      "cell_type": "markdown",
      "source": [
        "## Agent, environment\n",
        "\n",
        "<img src=https://gymnasium.farama.org/_images/lunar_lander.gif caption=\"lunar lander\" width=\"150\" height=\"50\"><img src=https://gymnasium.farama.org/_images/mountain_car.gif caption=\"mountain car\" width=\"150\" height=\"50\">\n",
        "<img src=https://gymnasium.farama.org/_images/cliff_walking.gif caption=\"cliff walking\" width=\"300\" height=\"50\">\n",
        "<img src=https://ale.farama.org/_images/montezuma_revenge.gif caption=\"montezuma revenge\" width=\"150\" height=\"100\">\n",
        "<img src=https://github.com/danijar/crafter/raw/main/media/video.gif caption=\"crafter\" width=\"150\" height=\"100\">\n",
        "<img src=https://camo.githubusercontent.com/6df2ca438d8fe8aa7a132b859315147818c54af608f8609320c3c20e938acf48/68747470733a2f2f6d656469612e67697068792e636f6d2f6d656469612f344e78376759694d394e44724d724d616f372f67697068792e676966 caption=\"malmo minecraft\" width=\"150\" height=\"100\">\n",
        "<img src=https://images.ctfassets.net/kftzwdyauwt9/e0c0947f-1a44-4528-4a41450a9f0a/2d0e85871d58d02dbe01b2469d693d4a/table-03.gif caption=\"roboschool\" width=\"150\" height=\"100\">\n",
        "<img src=https://raw.githubusercontent.com/Tviskaron/mipt/master/2019/RL/02/mdp.png caption=\"Марковский процесс принятия решений\" width=\"150\" height=\"100\">\n",
        "<img src=https://minigrid.farama.org/_images/DoorKeyEnv.gif caption=\"minigrid\" width=\"120\" height=\"120\">"
      ],
      "metadata": {
        "id": "OGAoJeNF6hJO"
      }
    },
    {
      "cell_type": "markdown",
      "source": [
        "## Observation, state\n",
        "\n",
        "TODO:\n",
        "- добавить примеры наблюдений/состояний (числа, векторы, картинки)\n",
        "- интуитивное объяснение различия, положить пока, что наблюдение = состояние\n",
        "- пространство состояний\n",
        "\n",
        "\n",
        "В каждый момент времени среда имеет некоторое внутреннее состояние. Здесь слово \"состояние\" я употребил скорее в интуитивном понимании, чтобы обозначить, что среда изменчива (иначе какой смысл с ней взаимодействовать, если ничего не меняется). В обучении с подкреплением под термином состояние $s$ (или $s_t$, где $t$ — текущее время) подразумевают либо абстрактно информацию о \"состоянии\" среды, либо ее явное представление в виде данных, достаточные для полного описания \"состояния\". *NB: Здесь можно провести аналогию с компьютерными играми — файл сохранения игры как раз содержит информацию о \"состоянии\" мира игры, чтобы в будущем можно было продолжить с текущей точки, так что данные этого файла в целом можно с некоторой натяжкой считать состоянием (с натяжкой, потому что редко когда в сложных играх файлы сохранения содержат прямо вот всю информацию, так что после перезагрузки вы получите не совсем точную копию). При этом обычно подразумевается, что состояние не содержит в себе ничего лишнего, то есть это **минимальный** набор информации.*\n",
        "\n",
        "Наблюдением $o$ называют то, что агент \"видит\" о текущем состоянии среды. Это не обязательно зрение, а вообще вся доступная ему информация (условно, со всех его органов чувств).\n",
        "\n",
        "В общем случае наблюдение: кортеж/словарь многомерных векторов чисел."
      ],
      "metadata": {
        "id": "dcyLKga76mA_"
      }
    },
    {
      "cell_type": "code",
      "source": [
        "print(gym.make(\"CartPole-v0\").reset()[0].shape)\n",
        "print(gym.make(\"MountainCar-v0\").reset()[0].shape)"
      ],
      "metadata": {
        "id": "ypHv9w6i6pcX",
        "colab": {
          "base_uri": "https://localhost:8080/"
        },
        "outputId": "05210104-ee1f-46a9-8cd5-d86c607196f0"
      },
      "execution_count": 59,
      "outputs": [
        {
          "output_type": "stream",
          "name": "stdout",
          "text": [
            "(4,)\n",
            "(2,)\n"
          ]
        },
        {
          "output_type": "stream",
          "name": "stderr",
          "text": [
            "/usr/local/lib/python3.12/dist-packages/gymnasium/envs/registration.py:512: DeprecationWarning: \u001b[33mWARN: The environment CartPole-v0 is out of date. You should consider upgrading to version `v1`.\u001b[0m\n",
            "  logger.deprecation(\n"
          ]
        }
      ]
    },
    {
      "cell_type": "markdown",
      "source": [
        "## Action, policy, transition function\n",
        "\n",
        "Рассмотрим следующие MDP:\n",
        "\n",
        "- A: <img src=https://i.ibb.co/mrCMVZLQ/mdp-a.png caption=\"A\" width=\"400\" height=\"100\">\n",
        "- B: <img src=https://i.ibb.co/GQ2tVtjC/mdp-b.png caption=\"B\" width=\"400\" height=\"100\">\n",
        "\n",
        "Links to all:\n",
        "[A](https://i.ibb.co/mrCMVZLQ/mdp-a.png)\n",
        "[B](https://i.ibb.co/GQ2tVtjC/mdp-b.png)\n",
        "[C](https://i.ibb.co/Jj9LYHjP/mdp-c.png)\n",
        "[D](https://i.ibb.co/Y47Mr83b/mdp-d.png)\n",
        "[E](https://i.ibb.co/Kjt1Xhmf/mdp-e.png)\n",
        "\n",
        "Давайте явно запишем пространства состояний $S$ и действий $A$, а также функцию перехода $T$ среды."
      ],
      "metadata": {
        "id": "GabuCLcJ67lb"
      }
    },
    {
      "cell_type": "code",
      "source": [
        "states = set(range(3))\n",
        "actions = set(range(1))\n",
        "\n",
        "print(f'{states=} | {actions=}')\n",
        "\n",
        "T = {\n",
        "    (0, 0): 1,\n",
        "    (1, 0): 2,\n",
        "    (2, 0): 2\n",
        "}\n",
        "print(f'Transition function {T=}')\n",
        "\n",
        "A_mdp = states, actions, T"
      ],
      "metadata": {
        "id": "4XpqNc_o6_CS",
        "colab": {
          "base_uri": "https://localhost:8080/"
        },
        "outputId": "af42eee1-be1a-49f1-b3ce-0cce0978390c"
      },
      "execution_count": 60,
      "outputs": [
        {
          "output_type": "stream",
          "name": "stdout",
          "text": [
            "states={0, 1, 2} | actions={0}\n",
            "Transition function T={(0, 0): 1, (1, 0): 2, (2, 0): 2}\n"
          ]
        }
      ]
    },
    {
      "cell_type": "markdown",
      "source": [
        "Попробуйте записать функцию перехода в матричном виде:"
      ],
      "metadata": {
        "id": "KlqB4WcZ7CDK"
      }
    },
    {
      "cell_type": "code",
      "source": [
        "p1, p2, p3 = 0.5, 0.3, 0.2\n",
        "\n",
        "P = np.array([\n",
        "    [0, p1, p2, p3],\n",
        "    [0, 1, 0, 0],\n",
        "    [0, 0, 1, 0],\n",
        "    [0, 0, 0, 1]\n",
        "])\n",
        "\n",
        "print(\"Матрица переходов P:\")\n",
        "print(P)\n"
      ],
      "metadata": {
        "id": "jmg8hnng7EnJ",
        "colab": {
          "base_uri": "https://localhost:8080/"
        },
        "outputId": "e3f3d737-a649-4b91-e190-69e6f53f663e"
      },
      "execution_count": 61,
      "outputs": [
        {
          "output_type": "stream",
          "name": "stdout",
          "text": [
            "Матрица переходов P:\n",
            "[[0.  0.5 0.3 0.2]\n",
            " [0.  1.  0.  0. ]\n",
            " [0.  0.  1.  0. ]\n",
            " [0.  0.  0.  1. ]]\n"
          ]
        }
      ]
    },
    {
      "cell_type": "markdown",
      "source": [
        "Как получить вероятность нахождения агента в состоянии (1) через N шагов? Что происходит с вероятностями нахождения в состояниях при $N \\rightarrow \\infty$"
      ],
      "metadata": {
        "id": "_FPshg_07G0R"
      }
    },
    {
      "cell_type": "code",
      "source": [
        "\n",
        "def probability_after_n_steps(initial_dist, P, n, target_state):\n",
        "    P_n = np.linalg.matrix_power(P, n)\n",
        "    result_dist = initial_dist @ P_n\n",
        "    return result_dist[target_state]\n",
        "\n",
        "initial_dist = np.array([1.0, 0.0, 0.0, 0.0])\n",
        "n = 5\n",
        "target = 1\n",
        "\n",
        "prob = probability_after_n_steps(initial_dist, P, n, target)\n",
        "print(f\"\\nВероятность в состоянии {target} через {n} шагов: {prob}\")\n",
        "\n",
        "def stationary_distribution(P, tolerance=1e-10, max_iter=1000):\n",
        "    pi = np.ones(P.shape[0]) / P.shape[0]\n",
        "    for i in range(max_iter):\n",
        "        pi_next = pi @ P\n",
        "        if np.max(np.abs(pi_next - pi)) < tolerance:\n",
        "            break\n",
        "        pi = pi_next\n",
        "    return pi\n",
        "\n",
        "stationary = stationary_distribution(P)\n",
        "print(f\"\\nСтационарное распределение: {stationary}\")"
      ],
      "metadata": {
        "id": "9pwc4Atn7IAf",
        "colab": {
          "base_uri": "https://localhost:8080/"
        },
        "outputId": "3a504a0f-3a6a-493c-b289-bf3e01549551"
      },
      "execution_count": 62,
      "outputs": [
        {
          "output_type": "stream",
          "name": "stdout",
          "text": [
            "\n",
            "Вероятность в состоянии 1 через 5 шагов: 0.5\n",
            "\n",
            "Стационарное распределение: [0.    0.375 0.325 0.3  ]\n"
          ]
        }
      ]
    },
    {
      "cell_type": "markdown",
      "source": [
        "Задайте еще несколько MDP:\n",
        "\n",
        "- C: <img src=https://i.ibb.co/Jj9LYHjP/mdp-c.png caption=\"C\" width=\"400\" height=\"100\">"
      ],
      "metadata": {
        "id": "p52R04np7Ku0"
      }
    },
    {
      "cell_type": "code",
      "source": [
        "p0, p1 = 0.7, 0.3\n",
        "\n",
        "P = np.array([\n",
        "    [0, p0, p1, 0],\n",
        "    [0, p0, 0, p1],\n",
        "    [0, 0, p1, p0],\n",
        "    [0, 0, 0, 1]\n",
        "])\n",
        "\n",
        "print(\"Матрица переходов P:\")\n",
        "print(P)\n",
        "\n",
        "def probability_after_n_steps(initial_dist, P, n, target_state):\n",
        "    P_n = np.linalg.matrix_power(P, n)\n",
        "    result_dist = initial_dist @ P_n\n",
        "    return result_dist[target_state]\n",
        "\n",
        "initial_dist = np.array([1.0, 0.0, 0.0, 0.0])\n",
        "n = 5\n",
        "target = 3\n",
        "\n",
        "prob = probability_after_n_steps(initial_dist, P, n, target)\n",
        "print(f\"\\nВероятность в состоянии {target} через {n} шагов: {prob}\")\n",
        "\n",
        "def stationary_distribution(P, tolerance=1e-10, max_iter=1000):\n",
        "    pi = np.ones(P.shape[0]) / P.shape[0]\n",
        "    for i in range(max_iter):\n",
        "        pi_next = pi @ P\n",
        "        if np.max(np.abs(pi_next - pi)) < tolerance:\n",
        "            break\n",
        "        pi = pi_next\n",
        "    return pi\n",
        "\n",
        "stationary = stationary_distribution(P)\n",
        "print(f\"\\nСтационарное распределение: {stationary}\")"
      ],
      "metadata": {
        "id": "JSdJ9ZsI7Nfw",
        "colab": {
          "base_uri": "https://localhost:8080/"
        },
        "outputId": "f53b34f9-0fb2-48f4-c1e7-880d0dd88d1d"
      },
      "execution_count": 63,
      "outputs": [
        {
          "output_type": "stream",
          "name": "stdout",
          "text": [
            "Матрица переходов P:\n",
            "[[0.  0.7 0.3 0. ]\n",
            " [0.  0.7 0.  0.3]\n",
            " [0.  0.  0.3 0.7]\n",
            " [0.  0.  0.  1. ]]\n",
            "\n",
            "Вероятность в состоянии 3 через 5 шагов: 0.8295\n",
            "\n",
            "Стационарное распределение: [0.00000000e+00 2.54010930e-10 2.11955791e-32 1.00000000e+00]\n"
          ]
        }
      ]
    },
    {
      "cell_type": "markdown",
      "source": [
        "Давайте попробуем задать двух агентов: случайного и оптимального (для каждой среды свой)."
      ],
      "metadata": {
        "id": "AiU5X4DH7TaG"
      }
    },
    {
      "cell_type": "code",
      "source": [
        "class Agent:\n",
        "    def __init__(self, actions):\n",
        "        self.rng = np.random.default_rng()\n",
        "        self.actions = np.array(list(actions))\n",
        "\n",
        "    def act(self, state):\n",
        "        return self.rng.integers(len(self.actions))"
      ],
      "metadata": {
        "id": "It2waXJi7WWN"
      },
      "execution_count": 64,
      "outputs": []
    },
    {
      "cell_type": "markdown",
      "source": [
        "В качестве дополнения, запишите стратегию агента"
      ],
      "metadata": {
        "id": "VH6uo4EP7ZqB"
      }
    },
    {
      "cell_type": "code",
      "source": [
        "class AgentA:\n",
        "    def __init__(self, actions):\n",
        "        self.actions = np.array(list(actions))\n",
        "\n",
        "    def act(self, state):\n",
        "        return 0"
      ],
      "metadata": {
        "id": "t68c_r-W7asH"
      },
      "execution_count": 65,
      "outputs": []
    },
    {
      "cell_type": "markdown",
      "source": [
        "## Reward, reward function\n",
        "\n",
        "Теперь добавим произвольную функцию вознаграждения. Например, для A:"
      ],
      "metadata": {
        "id": "XGx2-KeH7lL4"
      }
    },
    {
      "cell_type": "code",
      "source": [
        "states_A = set(range(3))\n",
        "actions_A = set(range(1))\n",
        "\n",
        "T_A = {\n",
        "    (0, 0): 1,\n",
        "    (1, 0): 2,\n",
        "    (2, 0): 2\n",
        "}\n",
        "\n",
        "R_A = {\n",
        "    (0, 0): -0.1,\n",
        "    (1, 0): 1.0,\n",
        "    (2, 0): 0.0\n",
        "}\n",
        "\n",
        "print(f'{states_A=} | {actions_A=}')\n",
        "print(f'Transition function {T_A=}')\n",
        "print(f'Reward function {R_A=}')\n",
        "\n",
        "terminal_states_A = {2}\n",
        "A_mdp = states_A, actions_A, T_A, R_A, terminal_states_A\n",
        "print(f'A_mdp = {A_mdp}')"
      ],
      "metadata": {
        "id": "fk7umEnA7oFv",
        "colab": {
          "base_uri": "https://localhost:8080/"
        },
        "outputId": "281a2917-119c-423c-f020-01cb4b496a61"
      },
      "execution_count": 66,
      "outputs": [
        {
          "output_type": "stream",
          "name": "stdout",
          "text": [
            "states_A={0, 1, 2} | actions_A={0}\n",
            "Transition function T_A={(0, 0): 1, (1, 0): 2, (2, 0): 2}\n",
            "Reward function R_A={(0, 0): -0.1, (1, 0): 1.0, (2, 0): 0.0}\n",
            "A_mdp = ({0, 1, 2}, {0}, {(0, 0): 1, (1, 0): 2, (2, 0): 2}, {(0, 0): -0.1, (1, 0): 1.0, (2, 0): 0.0}, {2})\n"
          ]
        }
      ]
    },
    {
      "cell_type": "markdown",
      "source": [
        "## Interaction loop, trajectory, termination, truncation, episode\n",
        "\n",
        "Общий цикл взаимодействия в рамках эпизода:\n",
        "1. Инициализировать среду: $s \\leftarrow \\text{env.init()}$\n",
        "2. Цикл:\n",
        "    - выбрать действие: $a \\leftarrow \\pi(s)$\n",
        "    - получить ответ от среды: $s, r, d \\leftarrow \\text{env.next(a)}$\n",
        "    - если $d == \\text{True}$, выйти из цикла"
      ],
      "metadata": {
        "id": "j92TZ1l67rVh"
      }
    },
    {
      "cell_type": "code",
      "source": [
        "def run_episode(mdp, agent_class, max_steps=100):\n",
        "    states, actions, T, R, terminal_states = mdp\n",
        "    agent = agent_class(actions)\n",
        "\n",
        "    s = 0\n",
        "    tau = []\n",
        "    for step in range(max_steps):\n",
        "        a = agent.act(s)\n",
        "        s_next = T[(s, a)]\n",
        "        r = R[(s, a)]\n",
        "\n",
        "        tau.append((s, a, r))\n",
        "        s = s_next\n",
        "\n",
        "        if s in terminal_states:\n",
        "            break\n",
        "\n",
        "    return tau"
      ],
      "metadata": {
        "id": "MRPZACJt7vG8"
      },
      "execution_count": 67,
      "outputs": []
    },
    {
      "cell_type": "code",
      "source": [
        "run_episode(A_mdp,AgentA)"
      ],
      "metadata": {
        "colab": {
          "base_uri": "https://localhost:8080/"
        },
        "id": "uyFWewnqFtBQ",
        "outputId": "6b610a78-6578-40fa-8ca2-96abe2a03195"
      },
      "execution_count": 68,
      "outputs": [
        {
          "output_type": "execute_result",
          "data": {
            "text/plain": [
              "[(0, 0, -0.1), (1, 0, 1.0)]"
            ]
          },
          "metadata": {},
          "execution_count": 68
        }
      ]
    },
    {
      "cell_type": "markdown",
      "source": [
        "Termination — означает окончание эпизода, когда достигнуто терминальное состояние. Является частью задания среды.\n",
        "\n",
        "Truncation — означает окончание эпизода, когда достигнут лимит по числу шагов (=времени). Обычно является внешне заданным параметром для удобства обучения.\n",
        "\n",
        "Пока не будем вводить truncation, но поддержим termination: расширьте определение среды информацией о терминальных состояниях для всех описанных ранее сред. Сгенерируйте по несколько случайных траекторий для каждой среды."
      ],
      "metadata": {
        "id": "wbGEr8kl7xnS"
      }
    },
    {
      "cell_type": "markdown",
      "source": [
        "### Return, expected return\n",
        "\n",
        "Наиболее важная метрика оценки качества работы агента: отдача.\n",
        "\n",
        "Отдача: $G(s_t) = \\sum_{i=t}^T r_i$\n",
        "\n",
        "Обычно также вводят параметр $\\gamma \\in [0, 1]$, дисконтирующий будущие вознаграждения. А еще, тк отдача может меняться от запуска к запуску благодаря вероятностным процессам, нас интересует отдача в среднем — ожидаемая отдача:\n",
        "\n",
        "$$\\hat{G}(s_t) = \\mathbb{E} [ \\sum_{i=t}^T \\gamma^{i-t} r_i ]$$\n",
        "\n",
        "Именно ее и оптимизируют в RL.\n",
        "\n",
        "Давайте научимся считать отдачу для состояний по траектории и считать среднюю отдачу."
      ],
      "metadata": {
        "id": "lxHNM9kS74WW"
      }
    },
    {
      "cell_type": "code",
      "source": [
        "def calculate_returns(trajectory, gamma=1.0):\n",
        "    returns = []\n",
        "    for i in range(len(trajectory)):\n",
        "        G = sum(r * (gamma ** (j-i)) for j, (_, _, r) in enumerate(trajectory[i:]))\n",
        "        returns.append(G)\n",
        "    return returns\n",
        "\n",
        "def calculate_expected_return(mdp, agent_class, num_episodes=100, gamma=1.0):\n",
        "    returns_list = []\n",
        "\n",
        "    for i in range(num_episodes):\n",
        "        trajectory = run_episode(mdp, agent_class)\n",
        "        if trajectory:\n",
        "            G = sum(r for _, _, r in trajectory)\n",
        "            returns_list.append(G)\n",
        "\n",
        "    mean_return = np.mean(returns_list)\n",
        "    return mean_return, returns_list"
      ],
      "metadata": {
        "id": "e47lFM1DHIp4"
      },
      "execution_count": 69,
      "outputs": []
    },
    {
      "cell_type": "code",
      "source": [
        "trajectory = run_episode(A_mdp, AgentA)\n",
        "print(\"Trajectory:\", trajectory)\n",
        "\n",
        "returns = calculate_returns(trajectory)\n",
        "print(\"Returns:\", returns)\n",
        "\n",
        "mean_return, all_returns = calculate_expected_return(A_mdp, AgentA)\n",
        "print(\"Mean return:\", mean_return)"
      ],
      "metadata": {
        "id": "scdThsNA8T2B",
        "colab": {
          "base_uri": "https://localhost:8080/"
        },
        "outputId": "78b328f6-4689-4a3d-8518-b9aaf039db7b"
      },
      "execution_count": 70,
      "outputs": [
        {
          "output_type": "stream",
          "name": "stdout",
          "text": [
            "Trajectory: [(0, 0, -0.1), (1, 0, 1.0)]\n",
            "Returns: [0.9, 1.0]\n",
            "Mean return: 0.9000000000000005\n"
          ]
        }
      ]
    },
    {
      "cell_type": "markdown",
      "source": [
        "Для среды С\n"
      ],
      "metadata": {
        "id": "Hk4KB7hnH-VN"
      }
    },
    {
      "cell_type": "code",
      "source": [
        "states_C = set(range(4))\n",
        "actions_C = set(range(2))\n",
        "\n",
        "T_C = {\n",
        "    (0, 0): 1, (0, 1): 2,\n",
        "    (1, 0): 1, (1, 1): 3,\n",
        "    (2, 0): 2, (2, 1): 3,\n",
        "    (3, 0): 3, (3, 1): 3\n",
        "}\n",
        "\n",
        "R_C = {\n",
        "    (0, 0): -0.5, (0, 1): -0.2,\n",
        "    (1, 0): -0.3, (1, 1): 1.5,\n",
        "    (2, 0): -0.3, (2, 1): 0.8,\n",
        "    (3, 0): 0.0, (3, 1): 0.0\n",
        "}\n",
        "\n",
        "terminal_states_C = {3}\n",
        "\n",
        "print(f'{states_C=} | {actions_C=}')\n",
        "print(f'Transition function {T_C=}')\n",
        "print(f'Reward function {R_C=}')\n",
        "\n",
        "C_mdp = states_C, actions_C, T_C, R_C, terminal_states_C\n",
        "print(f'C_mdp = {C_mdp}')"
      ],
      "metadata": {
        "colab": {
          "base_uri": "https://localhost:8080/"
        },
        "id": "ump5auGCIARS",
        "outputId": "e23755bb-e285-4749-fe46-6a9696a10df8"
      },
      "execution_count": 71,
      "outputs": [
        {
          "output_type": "stream",
          "name": "stdout",
          "text": [
            "states_C={0, 1, 2, 3} | actions_C={0, 1}\n",
            "Transition function T_C={(0, 0): 1, (0, 1): 2, (1, 0): 1, (1, 1): 3, (2, 0): 2, (2, 1): 3, (3, 0): 3, (3, 1): 3}\n",
            "Reward function R_C={(0, 0): -0.5, (0, 1): -0.2, (1, 0): -0.3, (1, 1): 1.5, (2, 0): -0.3, (2, 1): 0.8, (3, 0): 0.0, (3, 1): 0.0}\n",
            "C_mdp = ({0, 1, 2, 3}, {0, 1}, {(0, 0): 1, (0, 1): 2, (1, 0): 1, (1, 1): 3, (2, 0): 2, (2, 1): 3, (3, 0): 3, (3, 1): 3}, {(0, 0): -0.5, (0, 1): -0.2, (1, 0): -0.3, (1, 1): 1.5, (2, 0): -0.3, (2, 1): 0.8, (3, 0): 0.0, (3, 1): 0.0}, {3})\n"
          ]
        }
      ]
    },
    {
      "cell_type": "code",
      "source": [
        "class OptimalAgentC:\n",
        "    def __init__(self, actions):\n",
        "        self.actions = np.array(list(actions))\n",
        "\n",
        "    def act(self, state):\n",
        "        if state == 0:\n",
        "            return 0\n",
        "        elif state == 1:\n",
        "            return 1\n",
        "        elif state == 2:\n",
        "            return 1\n",
        "        else:\n",
        "            return 0"
      ],
      "metadata": {
        "id": "OqLF-RigIYrU"
      },
      "execution_count": 72,
      "outputs": []
    },
    {
      "cell_type": "code",
      "source": [
        "random_agent = Agent(actions_C)\n",
        "optimal_agent = OptimalAgentC(actions_C)\n",
        "\n",
        "print(\"Random agent trajectories:\")\n",
        "for i in range(3):\n",
        "    trajectory = run_episode(C_mdp, Agent)\n",
        "    returns = calculate_returns(trajectory)\n",
        "    print(f\"Episode {i+1}: {trajectory}\")\n",
        "    print(f\"Returns: {returns}\")\n",
        "\n",
        "print(\"\\nOptimal agent trajectories:\")\n",
        "for i in range(3):\n",
        "    trajectory = run_episode(C_mdp, OptimalAgentC)\n",
        "    returns = calculate_returns(trajectory)\n",
        "    print(f\"Episode {i+1}: {trajectory}\")\n",
        "    print(f\"Returns: {returns}\")\n",
        "\n",
        "random_mean, random_returns = calculate_expected_return(C_mdp, Agent, 1000)\n",
        "optimal_mean, optimal_returns = calculate_expected_return(C_mdp, OptimalAgentC, 1000)\n",
        "\n",
        "print(f\"\\nRandom agent mean return: {random_mean:.3f}\")\n",
        "print(f\"Optimal agent mean return: {optimal_mean:.3f}\")"
      ],
      "metadata": {
        "colab": {
          "base_uri": "https://localhost:8080/"
        },
        "id": "XVCOcZMUIW-Z",
        "outputId": "43384ca7-5fa3-4a25-ef5f-8b73fe2eba71"
      },
      "execution_count": 73,
      "outputs": [
        {
          "output_type": "stream",
          "name": "stdout",
          "text": [
            "Random agent trajectories:\n",
            "Episode 1: [(0, np.int64(1), -0.2), (2, np.int64(1), 0.8)]\n",
            "Returns: [0.6000000000000001, 0.8]\n",
            "Episode 2: [(0, np.int64(1), -0.2), (2, np.int64(1), 0.8)]\n",
            "Returns: [0.6000000000000001, 0.8]\n",
            "Episode 3: [(0, np.int64(1), -0.2), (2, np.int64(1), 0.8)]\n",
            "Returns: [0.6000000000000001, 0.8]\n",
            "\n",
            "Optimal agent trajectories:\n",
            "Episode 1: [(0, 0, -0.5), (1, 1, 1.5)]\n",
            "Returns: [1.0, 1.5]\n",
            "Episode 2: [(0, 0, -0.5), (1, 1, 1.5)]\n",
            "Returns: [1.0, 1.5]\n",
            "Episode 3: [(0, 0, -0.5), (1, 1, 1.5)]\n",
            "Returns: [1.0, 1.5]\n",
            "\n",
            "Random agent mean return: 0.478\n",
            "Optimal agent mean return: 1.000\n"
          ]
        }
      ]
    }
  ]
}